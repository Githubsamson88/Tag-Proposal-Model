{
 "cells": [
  {
   "cell_type": "markdown",
   "id": "784e4820",
   "metadata": {},
   "source": [
    "# NOTEBOOK DE MISE EN OEUVRE D'UNE APPROCHE NON SUPPERVISEE"
   ]
  },
  {
   "cell_type": "markdown",
   "id": "af4f47e6",
   "metadata": {},
   "source": [
    "### Résumé :\n"
   ]
  },
  {
   "cell_type": "markdown",
   "id": "1c039858",
   "metadata": {},
   "source": [
    "Le projet vise à explorer un ensemble de données de questions et réponses, en utilisant des techniques d'analyse de texte et d'apprentissage automatique non supervisé pour extraire des informations utiles à partir des textes. L'objectif principal est d'identifier les sujets principaux abordés dans les questions et d'explorer les relations entre ces sujets.\n"
   ]
  },
  {
   "cell_type": "markdown",
   "id": "56440511",
   "metadata": {},
   "source": [
    "### Plan "
   ]
  },
  {
   "cell_type": "markdown",
   "id": "8a6e4d91",
   "metadata": {},
   "source": [
    "Introduction \n",
    "\n",
    "Chargement et exploration des données.\n",
    "\n",
    "- Analyse exploratoire pour comprendre la distribution des questions, des mots les plus fréquents, etc.\n",
    "\n",
    "Introduction à LDA et son fonctionnement.\n",
    "\n",
    "- Application de LDA pour extraire les sujets principaux des questions.\n",
    "- Évaluation de la cohérence des sujets extraits.\n",
    "- Modélisation NMF (Non-negative Matrix Factorization) :\n",
    "\n",
    "Introduction à NMF et son fonctionnement.\n",
    "\n",
    "- Application de NMF pour extraire les sujets principaux des questions.\n",
    "- Comparaison des résultats avec LDA.\n",
    "- Analyse et interprétation des résultats :\n",
    "\n",
    " Examen des sujets extraits par LDA et NMF.\n",
    "\n",
    "- Interprétation des mots-clés associés à chaque sujet.\n",
    "- Comparaison des similitudes et des différences entre les deux approches.\n",
    "\n",
    "Intégration des résultats :\n",
    "\n",
    "- Utilisation des distributions de sujets comme nouvelles fonctionnalités pour des tâches supplémentaires (classification, clustering, etc.).\n",
    "- Fine-tuning des modèles et optimisation des performances.\n",
    "\n",
    "Conclusion :\n"
   ]
  },
  {
   "cell_type": "markdown",
   "id": "7fa30152",
   "metadata": {},
   "source": [
    "### Librairies"
   ]
  },
  {
   "cell_type": "code",
   "execution_count": 15,
   "id": "cc3552ca",
   "metadata": {},
   "outputs": [],
   "source": [
    "import pandas as pd\n",
    "from ast import literal_eval\n",
    "from sklearn.model_selection import train_test_split\n",
    "from sklearn.preprocessing import MultiLabelBinarizer\n",
    "from sklearn.feature_extraction.text import TfidfVectorizer\n",
    "from sklearn.metrics import accuracy_score, jaccard_score, hamming_loss\n",
    "from sklearn.multiclass import OneVsRestClassifier\n",
    "from sklearn.linear_model import LogisticRegression\n",
    "from sklearn.ensemble import RandomForestClassifier, GradientBoostingClassifier\n",
    "from sklearn.svm import SVC\n",
    "import mlflow\n",
    "import time\n",
    "import warnings\n",
    "from sklearn.exceptions import ConvergenceWarning\n",
    "from gensim import corpora\n",
    "from gensim.models import LdaModel\n",
    "from gensim.models.coherencemodel import CoherenceModel\n",
    "import matplotlib.pyplot as plt\n",
    "from sklearn.decomposition import PCA\n",
    "\n",
    "warnings.filterwarnings(\"ignore\", category=ConvergenceWarning)\n",
    "warnings.filterwarnings(\"ignore\", category=UserWarning)"
   ]
  },
  {
   "cell_type": "markdown",
   "id": "1988fa6b",
   "metadata": {},
   "source": [
    "### Chargement des données"
   ]
  },
  {
   "cell_type": "code",
   "execution_count": 16,
   "id": "9226ae80",
   "metadata": {
    "scrolled": true
   },
   "outputs": [
    {
     "data": {
      "text/html": [
       "<div>\n",
       "<style scoped>\n",
       "    .dataframe tbody tr th:only-of-type {\n",
       "        vertical-align: middle;\n",
       "    }\n",
       "\n",
       "    .dataframe tbody tr th {\n",
       "        vertical-align: top;\n",
       "    }\n",
       "\n",
       "    .dataframe thead th {\n",
       "        text-align: right;\n",
       "    }\n",
       "</style>\n",
       "<table border=\"1\" class=\"dataframe\">\n",
       "  <thead>\n",
       "    <tr style=\"text-align: right;\">\n",
       "      <th></th>\n",
       "      <th>Title</th>\n",
       "      <th>Body</th>\n",
       "      <th>Text</th>\n",
       "      <th>Tags</th>\n",
       "    </tr>\n",
       "  </thead>\n",
       "  <tbody>\n",
       "    <tr>\n",
       "      <th>0</th>\n",
       "      <td>[intercept, mouse, click, from, other, program]</td>\n",
       "      <td>[im, trying, to, intercept, mouse, clicks, fro...</td>\n",
       "      <td>[intercept mouse click from other program im t...</td>\n",
       "      <td>[c#, .net, winapi, hook, windows-messages]</td>\n",
       "    </tr>\n",
       "    <tr>\n",
       "      <th>1</th>\n",
       "      <td>[akka, and, state, among, actors, in, cluster]</td>\n",
       "      <td>[i, am, working, on, my, bc, thesis, project, ...</td>\n",
       "      <td>[akka and state among actors in cluster i am w...</td>\n",
       "      <td>[scala, cluster-computing, akka, actor, akka-c...</td>\n",
       "    </tr>\n",
       "    <tr>\n",
       "      <th>2</th>\n",
       "      <td>[keeping, the, di, container, usage, in, the, ...</td>\n",
       "      <td>[it, not, quite, clear, to, me, how, i, can, d...</td>\n",
       "      <td>[keeping the di container usage in the composi...</td>\n",
       "      <td>[c#, silverlight, mvvm, dependency-injection, ...</td>\n",
       "    </tr>\n",
       "    <tr>\n",
       "      <th>3</th>\n",
       "      <td>[how, can, i, wait, for, the, loop, to, complete]</td>\n",
       "      <td>[let, me, first, show, you, what, the, code, l...</td>\n",
       "      <td>[how can i wait for the loop to complete  let ...</td>\n",
       "      <td>[javascript, node.js, loops, asynchronous, asy...</td>\n",
       "    </tr>\n",
       "    <tr>\n",
       "      <th>4</th>\n",
       "      <td>[how, to, automate, the, functional, testing, in]</td>\n",
       "      <td>[i, use, the, codecept, functional, testing, f...</td>\n",
       "      <td>[how to automate the functional testing in  i ...</td>\n",
       "      <td>[php, yii, yii2, functional-testing, codeception]</td>\n",
       "    </tr>\n",
       "  </tbody>\n",
       "</table>\n",
       "</div>"
      ],
      "text/plain": [
       "                                               Title  \\\n",
       "0    [intercept, mouse, click, from, other, program]   \n",
       "1     [akka, and, state, among, actors, in, cluster]   \n",
       "2  [keeping, the, di, container, usage, in, the, ...   \n",
       "3  [how, can, i, wait, for, the, loop, to, complete]   \n",
       "4  [how, to, automate, the, functional, testing, in]   \n",
       "\n",
       "                                                Body  \\\n",
       "0  [im, trying, to, intercept, mouse, clicks, fro...   \n",
       "1  [i, am, working, on, my, bc, thesis, project, ...   \n",
       "2  [it, not, quite, clear, to, me, how, i, can, d...   \n",
       "3  [let, me, first, show, you, what, the, code, l...   \n",
       "4  [i, use, the, codecept, functional, testing, f...   \n",
       "\n",
       "                                                Text  \\\n",
       "0  [intercept mouse click from other program im t...   \n",
       "1  [akka and state among actors in cluster i am w...   \n",
       "2  [keeping the di container usage in the composi...   \n",
       "3  [how can i wait for the loop to complete  let ...   \n",
       "4  [how to automate the functional testing in  i ...   \n",
       "\n",
       "                                                Tags  \n",
       "0         [c#, .net, winapi, hook, windows-messages]  \n",
       "1  [scala, cluster-computing, akka, actor, akka-c...  \n",
       "2  [c#, silverlight, mvvm, dependency-injection, ...  \n",
       "3  [javascript, node.js, loops, asynchronous, asy...  \n",
       "4  [php, yii, yii2, functional-testing, codeception]  "
      ]
     },
     "execution_count": 16,
     "metadata": {},
     "output_type": "execute_result"
    }
   ],
   "source": [
    "data = pd.read_csv(r'C:\\Users\\amous\\OneDrive\\Desktop\\projet5\\dataAS.csv', sep=',')\n",
    "from ast import literal_eval\n",
    "for col in ['Title', 'Body', 'Tags']:\n",
    "     data[col] = data[col].apply(literal_eval)\n",
    "data.head()\n"
   ]
  },
  {
   "cell_type": "code",
   "execution_count": 17,
   "id": "f575289a",
   "metadata": {},
   "outputs": [
    {
     "data": {
      "text/plain": [
       "(1000, 4)"
      ]
     },
     "execution_count": 17,
     "metadata": {},
     "output_type": "execute_result"
    }
   ],
   "source": [
    "data.shape"
   ]
  },
  {
   "cell_type": "code",
   "execution_count": 18,
   "id": "2fab9d80",
   "metadata": {},
   "outputs": [],
   "source": [
    "data = data.loc[:, ['Title', 'Body', 'Text', 'Tags']]"
   ]
  },
  {
   "cell_type": "markdown",
   "id": "c3e6f5b2",
   "metadata": {},
   "source": [
    "### Approche avec CountVectorizer et LDA (Latent Dirichlet Allocation) avec Gensim :"
   ]
  },
  {
   "cell_type": "code",
   "execution_count": 19,
   "id": "0ec5bb27",
   "metadata": {
    "scrolled": true
   },
   "outputs": [
    {
     "name": "stdout",
     "output_type": "stream",
     "text": [
      "[(0,\n",
      "  '0.030*\"the\" + 0.019*\"to\" + 0.016*\"in\" + 0.013*\"java\" + 0.012*\"and\" + '\n",
      "  '0.012*\"at\" + 0.010*\"this\" + 0.010*\"is\" + 0.009*\"of\" + 0.008*\"it\"'),\n",
      " (1,\n",
      "  '0.038*\"the\" + 0.031*\"to\" + 0.018*\"and\" + 0.017*\"in\" + 0.014*\"this\" + '\n",
      "  '0.014*\"is\" + 0.011*\"it\" + 0.010*\"of\" + 0.009*\"that\" + 0.008*\"on\"'),\n",
      " (2,\n",
      "  '0.022*\"java\" + 0.022*\"the\" + 0.018*\"org\" + 0.015*\"at\" + 0.014*\"to\" + '\n",
      "  '0.013*\"version\" + 0.012*\"in\" + 0.012*\"dependency\" + 0.011*\"groupid\" + '\n",
      "  '0.011*\"artifactid\"'),\n",
      " (3,\n",
      "  '0.034*\"the\" + 0.019*\"to\" + 0.019*\"in\" + 0.015*\"is\" + 0.014*\"and\" + '\n",
      "  '0.010*\"this\" + 0.008*\"of\" + 0.008*\"it\" + 0.008*\"that\" + 0.006*\"my\"'),\n",
      " (4,\n",
      "  '0.032*\"the\" + 0.019*\"to\" + 0.018*\"is\" + 0.015*\"this\" + 0.012*\"in\" + '\n",
      "  '0.012*\"of\" + 0.012*\"and\" + 0.008*\"for\" + 0.007*\"it\" + 0.007*\"that\"'),\n",
      " (5,\n",
      "  '0.034*\"the\" + 0.026*\"to\" + 0.013*\"and\" + 0.011*\"is\" + 0.011*\"in\" + '\n",
      "  '0.010*\"it\" + 0.009*\"this\" + 0.009*\"that\" + 0.008*\"for\" + 0.007*\"with\"'),\n",
      " (6,\n",
      "  '0.051*\"the\" + 0.028*\"to\" + 0.015*\"in\" + 0.014*\"is\" + 0.013*\"and\" + '\n",
      "  '0.012*\"this\" + 0.011*\"it\" + 0.011*\"of\" + 0.010*\"that\" + 0.010*\"for\"'),\n",
      " (7,\n",
      "  '0.026*\"in\" + 0.020*\"the\" + 0.018*\"to\" + 0.011*\"android\" + 0.009*\"is\" + '\n",
      "  '0.009*\"from\" + 0.008*\"it\" + 0.008*\"id\" + 0.007*\"this\" + 0.007*\"of\"'),\n",
      " (8,\n",
      "  '0.017*\"the\" + 0.016*\"org\" + 0.014*\"at\" + 0.014*\"java\" + 0.014*\"to\" + '\n",
      "  '0.011*\"and\" + 0.010*\"is\" + 0.010*\"public\" + 0.009*\"in\" + 0.008*\"string\"'),\n",
      " (9,\n",
      "  '0.043*\"the\" + 0.032*\"to\" + 0.024*\"is\" + 0.016*\"in\" + 0.014*\"and\" + '\n",
      "  '0.011*\"of\" + 0.010*\"that\" + 0.010*\"it\" + 0.008*\"for\" + 0.008*\"this\"')]\n"
     ]
    }
   ],
   "source": [
    "import gensim\n",
    "from pprint import pprint\n",
    "from gensim.utils import simple_preprocess\n",
    "\n",
    "# Tokenization\n",
    "data['Texts_tokenized'] = data['Text'].apply(lambda x: simple_preprocess(x, deacc=True))\n",
    "\n",
    "id2word = corpora.Dictionary(data['Texts_tokenized'])\n",
    "\n",
    "# Création du corpus\n",
    "corpus = [id2word.doc2bow(text) for text in data['Texts_tokenized']]\n",
    "\n",
    "num_topics = 10\n",
    "\n",
    "# Construction du modèle LDA\n",
    "lda_model = gensim.models.LdaMulticore(corpus=corpus,\n",
    "                                       id2word=id2word,\n",
    "                                       num_topics=num_topics, \n",
    "                                       passes=2, \n",
    "                                       iterations=25)\n",
    "\n",
    "pprint(lda_model.print_topics())\n",
    "\n",
    "doc_lda = lda_model[corpus]"
   ]
  },
  {
   "cell_type": "markdown",
   "id": "25c7f5ee",
   "metadata": {},
   "source": [
    "Chaque sujet semble représenter une catégorie ou un thème particulier basé sur les termes les plus fréquents trouvés dans les documents du corpus"
   ]
  },
  {
   "cell_type": "code",
   "execution_count": 20,
   "id": "c8be1c17",
   "metadata": {},
   "outputs": [
    {
     "name": "stdout",
     "output_type": "stream",
     "text": [
      "Document 1: [(6, 0.9981761)]\n",
      "Document 2: [(1, 0.96938974), (9, 0.02654386)]\n",
      "Document 3: [(1, 0.7744646), (6, 0.20727426), (3, 0.016547462)]\n",
      "Document 4: [(9, 0.98952156)]\n",
      "Document 5: [(1, 0.9888721)]\n"
     ]
    }
   ],
   "source": [
    "document_topic_distributions = []\n",
    "\n",
    "for doc in doc_lda:\n",
    "    doc_topics = sorted(doc, key=lambda x: x[1], reverse=True)\n",
    "    document_topic_distributions.append(doc_topics)\n",
    "\n",
    "for i, doc_topics in enumerate(document_topic_distributions[:5]):\n",
    "    print(f\"Document {i+1}: {doc_topics}\")"
   ]
  },
  {
   "cell_type": "markdown",
   "id": "796e327f",
   "metadata": {},
   "source": [
    "Ces scores indiquent l'importance relative de chaque sujet dans chaque document. Plus le score est élevé, plus le document est fortement lié à ce sujet."
   ]
  },
  {
   "cell_type": "code",
   "execution_count": 21,
   "id": "b8f10cf8",
   "metadata": {},
   "outputs": [
    {
     "name": "stdout",
     "output_type": "stream",
     "text": [
      "Score de cohérence du modèle LDA: 0.5024922596718713\n"
     ]
    }
   ],
   "source": [
    "# Calcul de la cohérence des sujets\n",
    "coherence_model_lda = CoherenceModel(model=lda_model, texts=data['Texts_tokenized'], dictionary=id2word, coherence='c_v')\n",
    "coherence_lda = coherence_model_lda.get_coherence()\n",
    "print(f\"Score de cohérence du modèle LDA: {coherence_lda}\")"
   ]
  },
  {
   "cell_type": "markdown",
   "id": "52c3f7ac",
   "metadata": {},
   "source": [
    "0.48 indique une cohérence modérée entre les mots dans chaque sujet"
   ]
  },
  {
   "cell_type": "markdown",
   "id": "fa85591d",
   "metadata": {},
   "source": [
    "### Approche avec TF-IDF (Term Frequency-Inverse Document Frequency) et NMF (Non-negative Matrix Factorization) :"
   ]
  },
  {
   "cell_type": "code",
   "execution_count": 22,
   "id": "53170529",
   "metadata": {},
   "outputs": [
    {
     "data": {
      "text/html": [
       "<style>#sk-container-id-2 {color: black;}#sk-container-id-2 pre{padding: 0;}#sk-container-id-2 div.sk-toggleable {background-color: white;}#sk-container-id-2 label.sk-toggleable__label {cursor: pointer;display: block;width: 100%;margin-bottom: 0;padding: 0.3em;box-sizing: border-box;text-align: center;}#sk-container-id-2 label.sk-toggleable__label-arrow:before {content: \"▸\";float: left;margin-right: 0.25em;color: #696969;}#sk-container-id-2 label.sk-toggleable__label-arrow:hover:before {color: black;}#sk-container-id-2 div.sk-estimator:hover label.sk-toggleable__label-arrow:before {color: black;}#sk-container-id-2 div.sk-toggleable__content {max-height: 0;max-width: 0;overflow: hidden;text-align: left;background-color: #f0f8ff;}#sk-container-id-2 div.sk-toggleable__content pre {margin: 0.2em;color: black;border-radius: 0.25em;background-color: #f0f8ff;}#sk-container-id-2 input.sk-toggleable__control:checked~div.sk-toggleable__content {max-height: 200px;max-width: 100%;overflow: auto;}#sk-container-id-2 input.sk-toggleable__control:checked~label.sk-toggleable__label-arrow:before {content: \"▾\";}#sk-container-id-2 div.sk-estimator input.sk-toggleable__control:checked~label.sk-toggleable__label {background-color: #d4ebff;}#sk-container-id-2 div.sk-label input.sk-toggleable__control:checked~label.sk-toggleable__label {background-color: #d4ebff;}#sk-container-id-2 input.sk-hidden--visually {border: 0;clip: rect(1px 1px 1px 1px);clip: rect(1px, 1px, 1px, 1px);height: 1px;margin: -1px;overflow: hidden;padding: 0;position: absolute;width: 1px;}#sk-container-id-2 div.sk-estimator {font-family: monospace;background-color: #f0f8ff;border: 1px dotted black;border-radius: 0.25em;box-sizing: border-box;margin-bottom: 0.5em;}#sk-container-id-2 div.sk-estimator:hover {background-color: #d4ebff;}#sk-container-id-2 div.sk-parallel-item::after {content: \"\";width: 100%;border-bottom: 1px solid gray;flex-grow: 1;}#sk-container-id-2 div.sk-label:hover label.sk-toggleable__label {background-color: #d4ebff;}#sk-container-id-2 div.sk-serial::before {content: \"\";position: absolute;border-left: 1px solid gray;box-sizing: border-box;top: 0;bottom: 0;left: 50%;z-index: 0;}#sk-container-id-2 div.sk-serial {display: flex;flex-direction: column;align-items: center;background-color: white;padding-right: 0.2em;padding-left: 0.2em;position: relative;}#sk-container-id-2 div.sk-item {position: relative;z-index: 1;}#sk-container-id-2 div.sk-parallel {display: flex;align-items: stretch;justify-content: center;background-color: white;position: relative;}#sk-container-id-2 div.sk-item::before, #sk-container-id-2 div.sk-parallel-item::before {content: \"\";position: absolute;border-left: 1px solid gray;box-sizing: border-box;top: 0;bottom: 0;left: 50%;z-index: -1;}#sk-container-id-2 div.sk-parallel-item {display: flex;flex-direction: column;z-index: 1;position: relative;background-color: white;}#sk-container-id-2 div.sk-parallel-item:first-child::after {align-self: flex-end;width: 50%;}#sk-container-id-2 div.sk-parallel-item:last-child::after {align-self: flex-start;width: 50%;}#sk-container-id-2 div.sk-parallel-item:only-child::after {width: 0;}#sk-container-id-2 div.sk-dashed-wrapped {border: 1px dashed gray;margin: 0 0.4em 0.5em 0.4em;box-sizing: border-box;padding-bottom: 0.4em;background-color: white;}#sk-container-id-2 div.sk-label label {font-family: monospace;font-weight: bold;display: inline-block;line-height: 1.2em;}#sk-container-id-2 div.sk-label-container {text-align: center;}#sk-container-id-2 div.sk-container {/* jupyter's `normalize.less` sets `[hidden] { display: none; }` but bootstrap.min.css set `[hidden] { display: none !important; }` so we also need the `!important` here to be able to override the default hidden behavior on the sphinx rendered scikit-learn.org. See: https://github.com/scikit-learn/scikit-learn/issues/21755 */display: inline-block !important;position: relative;}#sk-container-id-2 div.sk-text-repr-fallback {display: none;}</style><div id=\"sk-container-id-2\" class=\"sk-top-container\"><div class=\"sk-text-repr-fallback\"><pre>NMF(n_components=10, random_state=42)</pre><b>In a Jupyter environment, please rerun this cell to show the HTML representation or trust the notebook. <br />On GitHub, the HTML representation is unable to render, please try loading this page with nbviewer.org.</b></div><div class=\"sk-container\" hidden><div class=\"sk-item\"><div class=\"sk-estimator sk-toggleable\"><input class=\"sk-toggleable__control sk-hidden--visually\" id=\"sk-estimator-id-2\" type=\"checkbox\" checked><label for=\"sk-estimator-id-2\" class=\"sk-toggleable__label sk-toggleable__label-arrow\">NMF</label><div class=\"sk-toggleable__content\"><pre>NMF(n_components=10, random_state=42)</pre></div></div></div></div></div>"
      ],
      "text/plain": [
       "NMF(n_components=10, random_state=42)"
      ]
     },
     "execution_count": 22,
     "metadata": {},
     "output_type": "execute_result"
    }
   ],
   "source": [
    "from sklearn.feature_extraction.text import TfidfVectorizer\n",
    "from sklearn.decomposition import NMF\n",
    "\n",
    "# Vectorisation avec TF-IDF\n",
    "tfidf_vectorizer = TfidfVectorizer()\n",
    "X_tfidf = tfidf_vectorizer.fit_transform(data['Text'])\n",
    "\n",
    "# Extraction de sujets avec NMF\n",
    "num_topics = 10  \n",
    "nmf_model = NMF(n_components=num_topics, random_state=42)\n",
    "nmf_model.fit(X_tfidf)\n"
   ]
  },
  {
   "cell_type": "code",
   "execution_count": 23,
   "id": "c11c7795",
   "metadata": {},
   "outputs": [
    {
     "name": "stdout",
     "output_type": "stream",
     "text": [
      "Sujet 1: the, to, is, of, and, that, in, it, for, this\n",
      "Sujet 2: java, org, at, springframework, spring, junit, jar, com, xml, servlet\n",
      "Sujet 3: android, app, intent, apk, id, item, com, layout_height, layout_width, match_parent\n",
      "Sujet 4: public, string, class, void, new, static, return, private, null, this\n",
      "Sujet 5: file, files, to, python, directory, the, error, module, path, pdf\n",
      "Sujet 6: int, std, const, template, value, return, type, the, unsigned, typename\n",
      "Sujet 7: app, the, to, user, application, server, web, token, my, api\n",
      "Sujet 8: js, script, function, src, var, log, console, import, require, angular\n",
      "Sujet 9: self, model, view, django, cell, py, models, def, import, image\n",
      "Sujet 10: id, sql, query, table, type, name, select, data, the, to\n"
     ]
    }
   ],
   "source": [
    "# Obtention des mots les plus importants pour chaque sujet\n",
    "feature_names = tfidf_vectorizer.get_feature_names_out()\n",
    "top_words_per_topic = []\n",
    "for topic_idx, topic in enumerate(nmf_model.components_):\n",
    "    top_words = [feature_names[i] for i in topic.argsort()[:-10 - 1:-1]]\n",
    "    top_words_per_topic.append(top_words)\n",
    "for topic_idx, top_words in enumerate(top_words_per_topic):\n",
    "    print(f\"Sujet {topic_idx + 1}: {', '.join(top_words)}\")\n"
   ]
  },
  {
   "cell_type": "markdown",
   "id": "1c91f488",
   "metadata": {},
   "source": [
    "### Évaluation des modèles non supervisés :\n"
   ]
  },
  {
   "cell_type": "code",
   "execution_count": 24,
   "id": "505ddba6",
   "metadata": {},
   "outputs": [
    {
     "name": "stdout",
     "output_type": "stream",
     "text": [
      "Score de cohérence du modèle NMF: 0.6177516478737164\n"
     ]
    }
   ],
   "source": [
    "# Calcul de la cohérence des sujets\n",
    "coherence_model_nmf = CoherenceModel(topics=top_words_per_topic, texts=data['Texts_tokenized'], dictionary=id2word, coherence='c_v')\n",
    "coherence_nmf = coherence_model_nmf.get_coherence()\n",
    "print(f\"Score de cohérence du modèle NMF: {coherence_nmf}\")"
   ]
  },
  {
   "cell_type": "markdown",
   "id": "ed47f4cf",
   "metadata": {},
   "source": [
    "En conclusion, l'approche TF-IDF combinée à NMF semble avoir bien fonctionné pour extraire des sujets significatifs à partir des données textuelles."
   ]
  },
  {
   "cell_type": "markdown",
   "id": "b2ff8eb7",
   "metadata": {},
   "source": [
    "-  TSNE "
   ]
  },
  {
   "cell_type": "code",
   "execution_count": 25,
   "id": "07504ae2",
   "metadata": {},
   "outputs": [
    {
     "data": {
      "image/png": "[encoded data removed]",
      "text/plain": [
       "<Figure size 1000x600 with 1 Axes>"
      ]
     },
     "metadata": {},
     "output_type": "display_data"
    }
   ],
   "source": [
    "import numpy as np\n",
    "from sklearn.manifold import TSNE\n",
    "\n",
    "# Conversion des distributions de sujets en une matrice numpy\n",
    "doc_topic_matrix = np.zeros((len(document_topic_distributions), num_topics))\n",
    "for i, doc_topics in enumerate(document_topic_distributions):\n",
    "    for topic, prob in doc_topics:\n",
    "        doc_topic_matrix[i, topic] = prob\n",
    "\n",
    "# Réduction de dimension avec t-SNE\n",
    "tsne_model = TSNE(n_components=2, random_state=42)\n",
    "tsne_topics = tsne_model.fit_transform(doc_topic_matrix)\n",
    "\n",
    "# Visualisation des résultats\n",
    "plt.figure(figsize=(10, 6))\n",
    "plt.scatter(tsne_topics[:, 0], tsne_topics[:, 1])\n",
    "plt.xlabel('t-SNE Dimension 1')\n",
    "plt.ylabel('t-SNE Dimension 2')\n",
    "plt.title('Visualisation t-SNE des Sujets')\n",
    "plt.show()"
   ]
  },
  {
   "cell_type": "markdown",
   "id": "57626578",
   "metadata": {},
   "source": [
    "- Optimisation"
   ]
  },
  {
   "cell_type": "code",
   "execution_count": 26,
   "id": "0d30600f",
   "metadata": {},
   "outputs": [],
   "source": [
    "from gensim.models import LdaModel, CoherenceModel\n",
    "import mlflow\n",
    "\n",
    "def compute_coherence_values(dictionary, corpus, texts, limit, start=2, step=1):\n",
    "    coherence_values = []\n",
    "    models = []\n",
    "    for num_topics in range(start, limit, step):\n",
    "        model = LdaModel(corpus=corpus, num_topics=num_topics, id2word=dictionary)\n",
    "        models.append(model)\n",
    "        coherence_model = CoherenceModel(model=model, texts=texts, dictionary=dictionary, coherence='c_v')\n",
    "        coherence_values.append(coherence_model.get_coherence())\n",
    "\n",
    "    return models, coherence_values\n",
    "\n",
    "models, coherence_values = compute_coherence_values(dictionary=id2word, corpus=corpus, texts=data['Texts_tokenized'], start=2, limit=20, step=1)\n",
    "\n",
    "# Index de la cohérence maximale\n",
    "optimal_index = coherence_values.index(max(coherence_values))\n",
    "\n",
    "optimal_num_topics = optimal_index + 2 "
   ]
  },
  {
   "cell_type": "markdown",
   "id": "cf21db85",
   "metadata": {},
   "source": [
    " Intégration avec MLFlow "
   ]
  },
  {
   "cell_type": "code",
   "execution_count": null,
   "id": "305a8884",
   "metadata": {},
   "outputs": [],
   "source": [
    "# Début du run MLFlow\n",
    "with mlflow.start_run():\n",
    "    # Journalisation des paramètres\n",
    "    mlflow.log_param(\"num_topics\", optimal_num_topics)\n",
    "    mlflow.log_param(\"model_type\", \"LDA\")\n",
    "    # Journalisation des métriques\n",
    "    mlflow.log_metric(\"coherence\", max(coherence_values))"
   ]
  },
  {
   "cell_type": "markdown",
   "id": "fd25d760",
   "metadata": {},
   "source": [
    "### Visualisation des résultats :\n"
   ]
  },
  {
   "cell_type": "code",
   "execution_count": 27,
   "id": "2bf62f4d",
   "metadata": {
    "scrolled": true
   },
   "outputs": [
    {
     "data": {
      "image/png": "[encoded data removed]",
      "text/plain": [
       "<Figure size 640x480 with 1 Axes>"
      ]
     },
     "metadata": {},
     "output_type": "display_data"
    }
   ],
   "source": [
    "# Définisons le start, limit, step\n",
    "start = 2\n",
    "limit = 20\n",
    "step = 1\n",
    "\n",
    "# Visualisation coherence values vs. number of topics\n",
    "plt.plot(range(start, limit, step), coherence_values)\n",
    "plt.xlabel(\"Num Topics\")\n",
    "plt.ylabel(\"Coherence score\")\n",
    "plt.legend((\"coherence_values\"), loc='best')\n",
    "plt.show()"
   ]
  },
  {
   "cell_type": "markdown",
   "id": "0fa1dc21",
   "metadata": {},
   "source": [
    "# Conclusion "
   ]
  },
  {
   "cell_type": "markdown",
   "id": "4745db04",
   "metadata": {},
   "source": [
    "De l'analyse des résultats obtenus, on note :\n",
    "\n",
    "Modèle LDA :\n",
    "\n",
    "Bien que le modèle LDA ait produit des sujets avec une certaine cohérence thématique, le score de cohérence modéré (0.502) suggère qu'il pourrait y avoir une certaine ambiguïté ou un chevauchement entre les sujets. Cela peut rendre la catégorisation automatique moins précise, car les sujets extraits peuvent ne pas être aussi distincts les uns des autres.\n",
    "\n",
    "Modèle NMF :\n",
    "\n",
    "En revanche, le modèle NMF a obtenu un score de cohérence plus élevé (0.618), ce qui indique une meilleure séparation entre les sujets. Les sujets extraits par le NMF peuvent être plus clairs et distincts, ce qui faciliterait la catégorisation automatique des questions de Stack Overflow en fonction de leur contenu.\n",
    "\n",
    "En conclusion, l'approche utilisant TF-IDF combinée à NMF semble plus prometteuse pour la catégorisation automatique des questions sur Stack Overflow. Les sujets extraits par ce modèle sont probablement plus pertinents et distincts, ce qui peut améliorer la précision du système de catégorisation automatique et fournir une meilleure expérience utilisateur en termes de recherche et de navigation sur la plateforme."
   ]
  },
  {
   "cell_type": "code",
   "execution_count": null,
   "id": "884c48b2",
   "metadata": {},
   "outputs": [],
   "source": []
  }
 ],
 "metadata": {
  "kernelspec": {
   "display_name": "Python 3 (ipykernel)",
   "language": "python",
   "name": "python3"
  },
  "language_info": {
   "codemirror_mode": {
    "name": "ipython",
    "version": 3
   },
   "file_extension": ".py",
   "mimetype": "text/x-python",
   "name": "python",
   "nbconvert_exporter": "python",
   "pygments_lexer": "ipython3",
   "version": "3.11.5"
  }
 },
 "nbformat": 4,
 "nbformat_minor": 5
}
