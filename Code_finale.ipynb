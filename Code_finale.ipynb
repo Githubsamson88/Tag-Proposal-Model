{
 "cells": [
  {
   "cell_type": "markdown",
   "id": "238f3d79",
   "metadata": {},
   "source": [
    "# Catégoriser automatiquement des questions"
   ]
  },
  {
   "cell_type": "code",
   "execution_count": 22,
   "id": "a34985b1",
   "metadata": {},
   "outputs": [],
   "source": [
    "#pip install flask"
   ]
  },
  {
   "cell_type": "code",
   "execution_count": 23,
   "id": "68bd77b0",
   "metadata": {},
   "outputs": [],
   "source": [
    "#pip install -r requirements.txt"
   ]
  },
  {
   "cell_type": "code",
   "execution_count": null,
   "id": "e349259e",
   "metadata": {},
   "outputs": [],
   "source": [
    "from fastapi import FastAPI, HTTPException\n",
    "from pydantic import BaseModel\n",
    "from typing import List\n",
    "import joblib\n",
    "import pandas as pd\n",
    "from transformers import AutoTokenizer, AutoModelForSequenceClassification\n",
    "import torch\n",
    "\n",
    "# Définition du modèle Pydantic pour la saisie de texte\n",
    "class InputText(BaseModel):\n",
    "    text: str\n",
    "\n",
    "# Définition de l'application FastAPI\n",
    "app = FastAPI()\n",
    "\n",
    "# Chargement du modèle BERT et du tokenizer\n",
    "tokenizer = AutoTokenizer.from_pretrained('bert-base-uncased')\n",
    "model = AutoModelForSequenceClassification.from_pretrained('bert-base-uncased')\n",
    "\n",
    "# Fonction pour prédire les mots-clés\n",
    "def predict_keywords(text: str) -> List[str]:\n",
    "    inputs = tokenizer(text, return_tensors=\"pt\", max_length=512, truncation=True)\n",
    "    outputs = model(**inputs)\n",
    "    logits = outputs.logits\n",
    "    sigmoid = torch.nn.Sigmoid()\n",
    "    probs = sigmoid(logits)\n",
    "    predicted_labels = (probs > 0.5).cpu().detach().numpy().flatten()\n",
    "    predicted_tags = mlb.inverse_transform([predicted_labels])[0]\n",
    "    return predicted_tags\n",
    "\n",
    "# Route pour la prédiction des mots-clés\n",
    "@app.post(\"/predict/\")\n",
    "async def predict(input_text: InputText):\n",
    "    try:\n",
    "        keywords = predict_keywords(input_text.text)\n",
    "        return {\"keywords\": keywords}\n",
    "    except Exception as e:\n",
    "        raise HTTPException(status_code=500, detail=str(e))"
   ]
  }
 ],
 "metadata": {
  "kernelspec": {
   "display_name": "Python 3 (ipykernel)",
   "language": "python",
   "name": "python3"
  },
  "language_info": {
   "codemirror_mode": {
    "name": "ipython",
    "version": 3
   },
   "file_extension": ".py",
   "mimetype": "text/x-python",
   "name": "python",
   "nbconvert_exporter": "python",
   "pygments_lexer": "ipython3",
   "version": "3.11.5"
  }
 },
 "nbformat": 4,
 "nbformat_minor": 5
}
