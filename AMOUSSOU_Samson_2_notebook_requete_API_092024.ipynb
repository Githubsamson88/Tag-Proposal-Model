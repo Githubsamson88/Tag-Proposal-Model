{
 "cells": [
  {
   "cell_type": "markdown",
   "id": "6d5293c5",
   "metadata": {},
   "source": [
    "# Notebook de requête API, qui récupère 50 questions par requête via le wrapper StackAPI "
   ]
  },
  {
   "cell_type": "markdown",
   "id": "1032c8a9",
   "metadata": {},
   "source": [
    "#### Requête"
   ]
  },
  {
   "cell_type": "code",
   "execution_count": null,
   "id": "7fc97d30",
   "metadata": {},
   "outputs": [],
   "source": [
    "SELECT TOP 50000 Title, Body, Tags, Id, Score, ViewCount, FavoriteCount, AnswerCount\n",
    "\n",
    "FROM Posts \n",
    "\n",
    "WHERE PostTypeId = 1 AND ViewCount > 10 AND FavoriteCount is not null\n",
    "\n",
    "AND Score > 5 AND AnswerCount > 0 AND LEN(Tags) - LEN(REPLACE(Tags, '<','')) >= 5"
   ]
  }
 ],
 "metadata": {
  "kernelspec": {
   "display_name": "Python 3 (ipykernel)",
   "language": "python",
   "name": "python3"
  },
  "language_info": {
   "codemirror_mode": {
    "name": "ipython",
    "version": 3
   },
   "file_extension": ".py",
   "mimetype": "text/x-python",
   "name": "python",
   "nbconvert_exporter": "python",
   "pygments_lexer": "ipython3",
   "version": "3.11.5"
  }
 },
 "nbformat": 4,
 "nbformat_minor": 5
}
